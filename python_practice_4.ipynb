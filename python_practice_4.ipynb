{
 "nbformat": 4,
 "nbformat_minor": 0,
 "metadata": {
  "colab": {
   "provenance": []
  },
  "kernelspec": {
   "name": "python3",
   "display_name": "Python 3"
  },
  "language_info": {
   "name": "python"
  }
 },
 "cells": [
  {
   "cell_type": "markdown",
   "source": [
    "# I. Functions. Arguments."
   ],
   "metadata": {
    "id": "kXpppdVm6wFy"
   }
  },
  {
   "cell_type": "markdown",
   "source": [
    "1. (5б) Назвіть основні 4 смислові  частини, з яких складається функція."
   ],
   "metadata": {
    "id": "u_krJdlbAkVz"
   }
  },
  {
   "cell_type": "markdown",
   "source": [
    "1) назва функції\n",
    "2) аргументи функції\n",
    "3) тіло функції\n",
    "4) значення, що функція повертає"
   ],
   "metadata": {
    "id": "KKTrTXmHAptb"
   }
  },
  {
   "cell_type": "markdown",
   "source": [
    "2. (3б) Визначте функцію, що приймає 2 аргументи та повертає результат ділення 1го аргумента на інший."
   ],
   "metadata": {
    "id": "ORM4PqJQAtDM"
   }
  },
  {
   "cell_type": "code",
   "execution_count": null,
   "metadata": {
    "id": "EuDx-z8M6sLo"
   },
   "outputs": [],
   "source": [
    "def division(a, b):\n",
    "  result = a/b\n",
    "  return result"
   ]
  },
  {
   "cell_type": "markdown",
   "source": [
    "3. (2б) Викличте вище визначену функцію, де другий аргумент дорівнює 0."
   ],
   "metadata": {
    "id": "5joQGQ-SAyMe"
   }
  },
  {
   "cell_type": "code",
   "source": [
    "print(division(5, 0))"
   ],
   "metadata": {
    "id": "V5cBV1LOA3d-",
    "colab": {
     "base_uri": "https://localhost:8080/"
    },
    "outputId": "acb368ab-d469-4cb8-9c7b-9ae6dea6e78b"
   },
   "execution_count": 7,
   "outputs": [
    {
     "output_type": "stream",
     "name": "stdout",
     "text": [
      "None\n"
     ]
    }
   ]
  },
  {
   "cell_type": "markdown",
   "source": [
    "4. (4б) Перевизначте функцію так, щоби у випадку ділення на 0 функція повертала None, а в решті випадків - результат розрахунків."
   ],
   "metadata": {
    "id": "QyimWgW8A43-"
   }
  },
  {
   "cell_type": "code",
   "source": [
    "def division(a, b):\n",
    "  if b == 0:\n",
    "    return None\n",
    "  return a/b"
   ],
   "metadata": {
    "id": "7VIODtSjA8Ek"
   },
   "execution_count": 2,
   "outputs": []
  },
  {
   "cell_type": "markdown",
   "source": [
    "5. (5б) Визначте функцію, що віднімає одне число від іншого (підказка: це буде 2 аргументи функції). При чому, якщо не визначити, скільки саме має бути віднято від числа, за замовчуванням має відніматися 1. Викличте функцію, передаючи тільки один аргумент."
   ],
   "metadata": {
    "id": "Y8mN0GfkA81l"
   }
  },
  {
   "cell_type": "code",
   "source": [
    "def subtraction(a, b=1):\n",
    "  result = a - b\n",
    "  return result\n",
    "\n",
    "print(subtraction(7))"
   ],
   "metadata": {
    "id": "vg1kxkdgBA50",
    "colab": {
     "base_uri": "https://localhost:8080/"
    },
    "outputId": "5941d1db-8009-4604-e2dd-121f8d72c751"
   },
   "execution_count": 3,
   "outputs": [
    {
     "output_type": "stream",
     "name": "stdout",
     "text": [
      "6\n"
     ]
    }
   ]
  },
  {
   "cell_type": "markdown",
   "source": [
    "6. (7б) Визначте функцію, яка приймає iterable (ітерабельний обʼєкт, напр. список), що складається з 7ми рядкових значень - назв погодних умов (напр. \"sunny\") за кожен день у тижні. Повертає функція словник, де ключами є рядки з погодними умовами, а значеннями - кількість разів, скільки дана погода була протягом тижня (напр. {'sunny': 1, ...}). Викличте цю функцію та виведіть результат її роботи на екран."
   ],
   "metadata": {
    "id": "D3mwQGNOBBs4"
   }
  },
  {
   "cell_type": "code",
   "source": [
    "def count_weather_conditions(weather):\n",
    "  weather_count = {}\n",
    "  for condition in weather:\n",
    "      if condition in weather_count:\n",
    "          weather_count[condition] += 1\n",
    "      else:\n",
    "          weather_count[condition] = 1\n",
    "  return weather_count\n",
    "\n",
    "week_weather = ['sunny', 'cloudy', 'rainy', 'sunny', 'sunny', 'cloudy', 'rainy']\n",
    "print(count_weather_conditions(week_weather))"
   ],
   "metadata": {
    "id": "OsWm-hKcBFyn",
    "colab": {
     "base_uri": "https://localhost:8080/"
    },
    "outputId": "100fee5f-4f41-44a7-fc07-b475d49e9407"
   },
   "execution_count": null,
   "outputs": [
    {
     "output_type": "stream",
     "name": "stdout",
     "text": [
      "{'sunny': 3, 'cloudy': 2, 'rainy': 2}\n"
     ]
    }
   ]
  },
  {
   "cell_type": "markdown",
   "source": [
    "7. (15б) Напишіть програму, яка б шукала необхідне число у впорядкованому списку цілочислених значень, де\n",
    "число має вводитись з консолі.\n",
    "власне алгоритм пошуку винесений в окрему функцію, яка повертає булеве значення (знайдено число - True, не знайдено - False).\n",
    "в залежності від результату функції, виведіть на екран повідомлення про успішний або ж неуспішний пошук.\n",
    "Зауваження: використовувати оператор in заборонено."
   ],
   "metadata": {
    "id": "RMiCcdOsBKQT"
   }
  },
  {
   "cell_type": "code",
   "source": [
    "def find_number(sorted_list, number_to_find):\n",
    "  low = 0\n",
    "  high = len(sorted_list)\n",
    "  while low <= high:\n",
    "    middle_of_the_list = low + (high - low) // 2\n",
    "    if sorted_list[middle_of_the_list] == number_to_find:\n",
    "      return True\n",
    "    if sorted_list[middle_of_the_list] > number_to_find:\n",
    "      high = middle_of_the_list - 1\n",
    "    else:\n",
    "      low = middle_of_the_list + 1\n",
    "  return False\n",
    "\n",
    "number_to_find = int(input(\"Введіть число: \"))\n",
    "arr = [2, 3, 4, 10, 40]\n",
    "print(\"Число знайдено\" if find_number(arr, number_to_find) else \"Число не знайдено\")"
   ],
   "metadata": {
    "id": "UNCZg65OBOy-",
    "colab": {
     "base_uri": "https://localhost:8080/"
    },
    "outputId": "558a335e-a7cb-45f0-d579-4512af064455"
   },
   "execution_count": null,
   "outputs": [
    {
     "output_type": "stream",
     "name": "stdout",
     "text": [
      "Введіть число: 2\n",
      "Число знайдено\n"
     ]
    }
   ]
  },
  {
   "cell_type": "markdown",
   "source": [
    "# II. Lambda functions."
   ],
   "metadata": {
    "id": "Ae1n_OvLBTsy"
   }
  },
  {
   "cell_type": "markdown",
   "source": [
    "8. (4б) В яких випадках варто використовувати лямбда-функції?"
   ],
   "metadata": {
    "id": "xaD_wSlaCWen"
   }
  },
  {
   "cell_type": "markdown",
   "source": [
    "коли нам треба маленька функція (однорядкова) для одноразового використання"
   ],
   "metadata": {
    "id": "42MB6OoLCakR"
   }
  },
  {
   "cell_type": "markdown",
   "source": [
    "9. (9б) Визначте список з рядками. Після цього визначте анонімну функцію для отримання першого символу у верхньому регістрі для кожного рядка списку.\n",
    "Підказка: використовуйте анонімну функцію в якості агрумента до вбудованої ф-ції, яка створена для застосування функцій над iterable обʼєктами. Результат виведіть на екран у вигляді кортежу."
   ],
   "metadata": {
    "id": "USrzrk7GCedk"
   }
  },
  {
   "cell_type": "code",
   "source": [
    "list_with_strings = [\"you\", \"know\", \"I\", \"left\", \"the\", \"part\", \"of\", \"me\", \"back\", \"in\", \"new\", \"york\"]\n",
    "print(tuple(map(lambda s: s[0].upper(), list_with_strings)))"
   ],
   "metadata": {
    "id": "M8QWUsMlCjWH",
    "colab": {
     "base_uri": "https://localhost:8080/"
    },
    "outputId": "5757b006-5008-4e72-e9f5-98ae06dffbd3"
   },
   "execution_count": 4,
   "outputs": [
    {
     "output_type": "stream",
     "name": "stdout",
     "text": [
      "('Y', 'K', 'I', 'L', 'T', 'P', 'O', 'M', 'B', 'I', 'N', 'Y')\n"
     ]
    }
   ]
  },
  {
   "cell_type": "markdown",
   "source": [
    "10. (10б) Визначте список з числовими значеннями (і цілими, і з рухомою комою). а) Відфільтруйте всі числа, які діляться націло на 3 за допомогою вбудованої функції та анонімної функції в якості аргумента). Збережіть результат у змінній, не приводяти явно до будь-якого типу. б) Використовуючи результат на кроці 12.а у якості аргументу, та за допомогою лямбда-функції в якості іншого аргументу до вбудованої функції, додайте до кожного елементу число 1 та опісля зведіть у квадрат. Остаточний результат приведіть явно до списку та виведіть на екран."
   ],
   "metadata": {
    "id": "9fyUhXOoCtGp"
   }
  },
  {
   "cell_type": "code",
   "source": [
    "list_with_numbers = [1, 2, 3, 4, 5, 5.5, 6, 7.7, 8.8, 9.9]\n",
    "a_list_with_numbers = filter(lambda x: x % 3 == 0, list_with_numbers)\n",
    "result = list(map(lambda x: (x + 1) ** 2, a_list_with_numbers))\n",
    "print (result)"
   ],
   "metadata": {
    "id": "exEx2_okCsql",
    "colab": {
     "base_uri": "https://localhost:8080/"
    },
    "outputId": "f275658c-83fc-4912-e742-e196220928c0"
   },
   "execution_count": null,
   "outputs": [
    {
     "output_type": "stream",
     "name": "stdout",
     "text": [
      "[16, 49]\n"
     ]
    }
   ]
  },
  {
   "cell_type": "markdown",
   "source": [
    "# III. Decorators."
   ],
   "metadata": {
    "id": "o_x8cG_WC7jp"
   }
  },
  {
   "cell_type": "markdown",
   "source": [
    "11. (11б) Визначте декоратор, який би виводив у консоль повідомлення про початок роботи і назву функції (напр. my_function._ _ name _ _), а після відпрацювання функції - повідомлення про закінчення роботи і назву функції, що задекорована."
   ],
   "metadata": {
    "id": "mhxS4-mfC8LQ"
   }
  },
  {
   "cell_type": "code",
   "source": [
    "def my_decorator(func):\n",
    "    def wrapper(*args, **kwargs):\n",
    "        print(f\"Something is happening before the function {func.__name__} is called.\")\n",
    "        result = func(*args, **kwargs)\n",
    "        print(f\"Something is happening after the function {func.__name__} is called.\")\n",
    "        return result\n",
    "    return wrapper\n",
    "\n",
    "\n",
    "@my_decorator\n",
    "def say_hi():\n",
    "    print(\"Hiii\")\n",
    "\n",
    "\n",
    "say_hi()"
   ],
   "metadata": {
    "id": "srd1ygWjDGhO",
    "colab": {
     "base_uri": "https://localhost:8080/"
    },
    "outputId": "3afbba93-c946-4319-cf1a-08b87b1136d2"
   },
   "execution_count": 8,
   "outputs": [
    {
     "output_type": "stream",
     "name": "stdout",
     "text": [
      "Something is happening before the function say_hi is called.\n",
      "Hiii\n",
      "Something is happening after the function say_hi is called.\n"
     ]
    }
   ]
  },
  {
   "cell_type": "markdown",
   "source": [
    "12. (4б) Задекоруйте двома різними способами функції з завдання 4 та 5 декоратором із завдання 11. (**УВАГА**: не декоруйте функції двічі!)."
   ],
   "metadata": {
    "id": "rxGZwVBiDph3"
   }
  },
  {
   "cell_type": "code",
   "source": [
    "@my_decorator\n",
    "def division(a, b):\n",
    "    if b == 0:\n",
    "        return None\n",
    "    return a/b\n",
    "\n",
    "subtraction = my_decorator(subtraction)"
   ],
   "metadata": {
    "id": "06lj7eq_DwZe"
   },
   "execution_count": 10,
   "outputs": []
  },
  {
   "cell_type": "markdown",
   "source": [
    "13. (2б) Викличте одну з задекорованих функцій і виведіть її результат на екран."
   ],
   "metadata": {
    "id": "P0ep1urBDzf-"
   }
  },
  {
   "cell_type": "code",
   "source": [
    "print(division(15, 3))"
   ],
   "metadata": {
    "id": "1QvTw0ctD0S3",
    "colab": {
     "base_uri": "https://localhost:8080/"
    },
    "outputId": "8c4387ba-e5d8-44e9-9ab2-fe508a206bfe"
   },
   "execution_count": 13,
   "outputs": [
    {
     "output_type": "stream",
     "name": "stdout",
     "text": [
      "Something is happening before the function division is called.\n",
      "Something is happening after the function division is called.\n",
      "5.0\n"
     ]
    }
   ]
  },
  {
   "cell_type": "markdown",
   "source": [
    "# IV. Recursion."
   ],
   "metadata": {
    "id": "poECCpuoD2S9"
   }
  },
  {
   "cell_type": "markdown",
   "source": [
    "14. (4б) Назвіть дві частини функції, які є обовʼязковими для того, щоб називати її рекурсивною."
   ],
   "metadata": {
    "id": "DqkURfdsD7MY"
   }
  },
  {
   "cell_type": "markdown",
   "source": [
    "1) умова зупинки (стандартний випадок); 2) виклик функцією самої себе, який наближає до стандартного випадку"
   ],
   "metadata": {
    "id": "HYW6ttIeIQIU"
   }
  },
  {
   "cell_type": "markdown",
   "source": [
    "15. (15б) Визначте функцію, яка рекурсивно реалізовує пошук числа у послідовності Фібоначчі за її індексом (нумерація починається з нуля). Наприклад, потрібно знайти перше число у послідовності, тоді функція прийматиме 0 у якості аргумента і повертатиме 1, якщо ж знаходити третє число (індекс 2) послідовності, то функція повертатиме 2, якщо ж знаходити десяте число (індекс 9), то функція повертатиме 55."
   ],
   "metadata": {
    "id": "WYVt20UmEA35"
   }
  },
  {
   "cell_type": "code",
   "source": [
    "def fibonacci_rec(num):\n",
    "  if num == 0 or num == 1:\n",
    "    return 1\n",
    "  return fibonacci_rec(num - 1) + fibonacci_rec(num - 2)\n",
    "\n",
    "for num in range (10):\n",
    "  print(f\"Число у послідовності Фібоначчі з індексом {num} дорівнює {fibonacci_rec(num)}.\")"
   ],
   "metadata": {
    "id": "xIMhp05AIpV_",
    "colab": {
     "base_uri": "https://localhost:8080/"
    },
    "outputId": "cf18f822-988e-4c6b-ffb9-32327d04f261"
   },
   "execution_count": 14,
   "outputs": [
    {
     "output_type": "stream",
     "name": "stdout",
     "text": [
      "Число у послідовності Фібоначчі з індексом 0 дорівнює 1.\n",
      "Число у послідовності Фібоначчі з індексом 1 дорівнює 1.\n",
      "Число у послідовності Фібоначчі з індексом 2 дорівнює 2.\n",
      "Число у послідовності Фібоначчі з індексом 3 дорівнює 3.\n",
      "Число у послідовності Фібоначчі з індексом 4 дорівнює 5.\n",
      "Число у послідовності Фібоначчі з індексом 5 дорівнює 8.\n",
      "Число у послідовності Фібоначчі з індексом 6 дорівнює 13.\n",
      "Число у послідовності Фібоначчі з індексом 7 дорівнює 21.\n",
      "Число у послідовності Фібоначчі з індексом 8 дорівнює 34.\n",
      "Число у послідовності Фібоначчі з індексом 9 дорівнює 55.\n"
     ]
    }
   ]
  },
  {
   "cell_type": "markdown",
   "source": [
    "# Вітаю! Ви велика(ий) молодець, що впоралась(вся). Похваліть себе та побалуйте чимось приємним. Я Вами пишаюся."
   ],
   "metadata": {
    "id": "ytXC8n_4Ip0W"
   }
  }
 ]
}
