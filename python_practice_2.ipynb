{
 "cells": [
  {
   "cell_type": "markdown",
   "metadata": {
    "id": "p9wwt0LZzNvn"
   },
   "source": [
    "# I. Змінні та памʼять."
   ]
  },
  {
   "cell_type": "markdown",
   "metadata": {
    "id": "HTJrrm95xSV9"
   },
   "source": [
    "1. Створити змінні, що посилаються на два цілих числа, що однакові за значенням, де значення належить проміжку від -5 до 256. Перевірте, чи будуть ці змінні рівні тільки за значенням або ж ще будуть посилатися на один і той самий обʼєкт в памʼяті? Наведіть код та дайте текстову відповідь нижче."
   ]
  },
  {
   "cell_type": "code",
   "execution_count": 2,
   "metadata": {
    "id": "TATni2vzayjG",
    "colab": {
     "base_uri": "https://localhost:8080/"
    },
    "outputId": "a854c7a9-49d6-4c63-8bed-af2854cc8db3"
   },
   "outputs": [
    {
     "output_type": "stream",
     "name": "stdout",
     "text": [
      "Чи рівні змінні за значенням? True\n",
      "Чи посилаються на один і той самий об'єкт? True\n"
     ]
    }
   ],
   "source": [
    "n1 = 77\n",
    "n2 = 77\n",
    "\n",
    "print(\"Чи рівні змінні за значенням?\", n1 == n2)\n",
    "print(\"Чи посилаються на один і той самий об'єкт?\", n1 is n2)"
   ]
  },
  {
   "cell_type": "markdown",
   "metadata": {
    "id": "zfRG_o3WbRdg"
   },
   "source": [
    "Для цілих чисел в діапазоні від -5 до 256 використовується механізм кешування, що означає, що числа з цього діапазону, незважаючи на те, як багато змінних посилаються на них, будуть посилатися на один і той самий об'єкт у пам'яті."
   ]
  },
  {
   "cell_type": "markdown",
   "metadata": {
    "id": "ISORzt6M3vAt"
   },
   "source": [
    "2. За допомогою якої функції можна перевірити належність змінної до вказаного типу даних (напр. чи змінна True посилається на значення булевого та цілочисленого типу)?"
   ]
  },
  {
   "cell_type": "code",
   "execution_count": 1,
   "metadata": {
    "id": "9vL9CFaMbfyo",
    "ExecuteTime": {
     "end_time": "2024-02-12T14:41:52.908056900Z",
     "start_time": "2024-02-12T14:41:52.874148Z"
    }
   },
   "outputs": [
    {
     "name": "stdout",
     "output_type": "stream",
     "text": [
      "True\n"
     ]
    }
   ],
   "source": [
    "# перевірити належність змінної до вказаного типу даних можна за допомогою функції isinstance(object, type),\n",
    "# наприклад чи змінна True посилається на значення булевого та цілочисленого типу?:\n",
    "print(isinstance(True, (int, bool)))"
   ]
  },
  {
   "cell_type": "markdown",
   "metadata": {
    "id": "tRxugKAxwYLw"
   },
   "source": [
    "# II. Цілі числа та числа з рухомою комою"
   ]
  },
  {
   "cell_type": "markdown",
   "metadata": {
    "id": "NLHkgd5Gybc8"
   },
   "source": [
    "3. Створити дві змінні, що посилаються на будь-які ціле число та число з рухомою комою та продемонструвати такі арифметичні операції: додавання, віднімання, ділення, множення, ділення без залишку, ділення по модулю, приведення до ступеню. Всі результати операцій вивести на екран."
   ]
  },
  {
   "cell_type": "code",
   "execution_count": 6,
   "metadata": {
    "id": "nb8u_3pjb2cA",
    "colab": {
     "base_uri": "https://localhost:8080/"
    },
    "outputId": "0c0d0be4-af4e-4ac8-9cc5-0a70cf0299bf"
   },
   "outputs": [
    {
     "output_type": "stream",
     "name": "stdout",
     "text": [
      "Додавання 8 + 7.7 = 15.7\n",
      "Віднімання 8 - 7.7 = 0.2999999999999998\n",
      "Множення 8 * 7.7 = 61.6\n",
      "Ділення 8 / 7.7 = 1.0389610389610389\n",
      "Ділення без залишку 8 // 7.7 = 1.0\n",
      "Ділення по модулю 8 % 7.7 = 0.2999999999999998\n",
      "Приведення до ступеню 8 ** 7.7 = 8990687.442019653\n"
     ]
    }
   ],
   "source": [
    "n1 = 8\n",
    "n2 = 7.7\n",
    "\n",
    "print(f\"Додавання {n1} + {n2} = {n1 + n2}\")\n",
    "print(f\"Віднімання {n1} - {n2} = {n1 - n2}\")\n",
    "print(f\"Множення {n1} * {n2} = {n1 * n2}\")\n",
    "print(f\"Ділення {n1} / {n2} = {n1 / n2}\")\n",
    "print(f\"Ділення без залишку {n1} // {n2} = {n1 // n2}\")\n",
    "print(f\"Ділення по модулю {n1} % {n2} = {n1 % n2}\")\n",
    "print(f\"Приведення до ступеню {n1} ** {n2} = {n1 ** n2}\")"
   ]
  },
  {
   "cell_type": "markdown",
   "metadata": {
    "id": "1kBClKgPzZnC"
   },
   "source": [
    "4. Використовуючи змінні з вправи 3, продемонструйте механізм явного перетворення типів, де числа з рухомою комою перетворюються на цілі числа. Також визначте змінну, що посилається на значення булевого типу і спробуйте явно привести її до цілого числа."
   ]
  },
  {
   "cell_type": "code",
   "execution_count": 8,
   "metadata": {
    "id": "TbqJbkeUcKsD",
    "colab": {
     "base_uri": "https://localhost:8080/"
    },
    "outputId": "b95fc5fa-0095-48cd-c4f7-d38e6eb99264"
   },
   "outputs": [
    {
     "output_type": "stream",
     "name": "stdout",
     "text": [
      "Перетворення числа з рухомою комою 7.7 на ціле = 7\n",
      "Перетворення булеана True на ціле число = 1\n"
     ]
    }
   ],
   "source": [
    "print(f\"Перетворення числа з рухомою комою {n2} на ціле = {int(n2)}\")\n",
    "bool_var = True\n",
    "print(f\"Перетворення булеана {bool_var} на ціле число = {int(bool_var)}\")"
   ]
  },
  {
   "cell_type": "markdown",
   "metadata": {
    "id": "EVJ7AflwxrZi"
   },
   "source": [
    "# IІІ. Рядки (String)."
   ]
  },
  {
   "cell_type": "markdown",
   "metadata": {
    "id": "_s5ECzz9zE61"
   },
   "source": [
    "5. Створити пустий рядок двома різними способами."
   ]
  },
  {
   "cell_type": "code",
   "execution_count": 13,
   "metadata": {
    "id": "fkZJHu9Scvc-"
   },
   "outputs": [],
   "source": [
    "s1 = str()\n",
    "s2 = \"\""
   ]
  },
  {
   "cell_type": "markdown",
   "metadata": {
    "id": "4Bdn9J3MzLf_"
   },
   "source": [
    "6. Створити рядок з апострофом. Зробити його сирим. Вивести обидва рядка на екран."
   ]
  },
  {
   "cell_type": "code",
   "execution_count": 2,
   "metadata": {
    "id": "ivji_hsmc0GH",
    "colab": {
     "base_uri": "https://localhost:8080/"
    },
    "outputId": "aceafa70-6781-4110-8bf8-6bd311d1a4e0",
    "ExecuteTime": {
     "end_time": "2024-02-12T14:43:00.437270400Z",
     "start_time": "2024-02-12T14:43:00.363666100Z"
    }
   },
   "outputs": [
    {
     "name": "stdout",
     "output_type": "stream",
     "text": [
      "Рядок з апострофом: 'апостроф'\n",
      "Рядок з апострофом: \\'апостроф\\'\n"
     ]
    }
   ],
   "source": [
    "str_apostrophe = 'Рядок з апострофом: \\'апостроф\\''\n",
    "raw_str_apostrophe = r'Рядок з апострофом: \\'апостроф\\''\n",
    "\n",
    "print(str_apostrophe)\n",
    "print(raw_str_apostrophe)"
   ]
  },
  {
   "cell_type": "markdown",
   "metadata": {
    "id": "bg_d8wM4z8dS"
   },
   "source": [
    "7. Створити змінну, що буде посилатися на Ваше прізвище латинкою. Створити форматований рядок, який буде мати вигляд \"My surname is ______\", де на місці нижніх підкреслень буде Ваше прізвище зі змінної."
   ]
  },
  {
   "cell_type": "code",
   "execution_count": 19,
   "metadata": {
    "id": "kuxFgpWndACq",
    "colab": {
     "base_uri": "https://localhost:8080/"
    },
    "outputId": "3da689ec-4863-49d7-f3ef-d58cad541fca"
   },
   "outputs": [
    {
     "output_type": "stream",
     "name": "stdout",
     "text": [
      "My surname is Rudas\n"
     ]
    }
   ],
   "source": [
    "surname = \"Rudas\"\n",
    "my_surname = f\"My surname is {surname}\"\n",
    "print(my_surname)"
   ]
  },
  {
   "cell_type": "markdown",
   "metadata": {
    "id": "1Nc6RqvQ0hxU"
   },
   "source": [
    "8. Маючи рядок \"My dog is crazy.\" перетворити його на список [\"my\", \"dog\", \"is\", \"crazy\"]"
   ]
  },
  {
   "cell_type": "code",
   "execution_count": 20,
   "metadata": {
    "id": "w1Ya4RqedUhw",
    "colab": {
     "base_uri": "https://localhost:8080/"
    },
    "outputId": "a50d817b-108f-4f82-ac14-3aeac9b1660f"
   },
   "outputs": [
    {
     "output_type": "stream",
     "name": "stdout",
     "text": [
      "['My', 'dog', 'is', 'crazy']\n"
     ]
    }
   ],
   "source": [
    "sentence = \"My dog is crazy.\"\n",
    "word_list = [word.strip('.,') for word in sentence.split()]\n",
    "\n",
    "print(word_list)"
   ]
  },
  {
   "cell_type": "markdown",
   "metadata": {
    "id": "GYVqN9uP1D4n"
   },
   "source": [
    "# IV. Робота зі списками."
   ]
  },
  {
   "cell_type": "markdown",
   "metadata": {
    "id": "7-DeDunw2sO-"
   },
   "source": [
    "9. Створити список двома різними за синтаксисом способами. За допомогою вбудованої функції обчисліть довжину одного з них."
   ]
  },
  {
   "cell_type": "code",
   "execution_count": 21,
   "metadata": {
    "id": "zxg06Uuxdyoh",
    "colab": {
     "base_uri": "https://localhost:8080/"
    },
    "outputId": "adfc5e9f-47b6-4d0a-823d-055057c27c91"
   },
   "outputs": [
    {
     "output_type": "stream",
     "name": "stdout",
     "text": [
      "Довжина списку [] = 0\n"
     ]
    }
   ],
   "source": [
    "list1 = list()\n",
    "list2 = []\n",
    "print(f\"Довжина списку {list1} = {len(list1)}\")"
   ]
  },
  {
   "cell_type": "markdown",
   "metadata": {
    "id": "8vmGUTjL22gI"
   },
   "source": [
    "10. Створіть два списка та за допомогою спеціального методу додайте другий з них в якості останнього елемента першого."
   ]
  },
  {
   "cell_type": "code",
   "execution_count": 3,
   "metadata": {
    "id": "uHtjWYw7d7hm",
    "colab": {
     "base_uri": "https://localhost:8080/"
    },
    "outputId": "63277927-70ca-445a-b61d-8b5dfddcec5d",
    "ExecuteTime": {
     "end_time": "2024-02-12T14:44:44.120838700Z",
     "start_time": "2024-02-12T14:44:44.085882800Z"
    }
   },
   "outputs": [
    {
     "name": "stdout",
     "output_type": "stream",
     "text": [
      "[1, 2, 3, [4, 5, 6]]\n"
     ]
    }
   ],
   "source": [
    "first_list = [1, 2, 3]\n",
    "second_list = [4, 5, 6]\n",
    "\n",
    "first_list.append(second_list)\n",
    "print(first_list)"
   ]
  },
  {
   "cell_type": "markdown",
   "metadata": {
    "id": "JC3BkD-67_--"
   },
   "source": [
    "11. Створіть список, де елементами цього списку також є списки. Отримай перший елемент з останнього рядка та виведи значення на екран."
   ]
  },
  {
   "cell_type": "code",
   "execution_count": 26,
   "metadata": {
    "id": "Kz2jZHsGeLlz",
    "colab": {
     "base_uri": "https://localhost:8080/"
    },
    "outputId": "1164a5e9-8d16-44dc-8ac4-cb8a9700583e"
   },
   "outputs": [
    {
     "output_type": "stream",
     "name": "stdout",
     "text": [
      "Перший елемент з останнього рядка = 4\n"
     ]
    }
   ],
   "source": [
    "list_of_lists = [first_list, second_list]\n",
    "last_row = list_of_lists[-1]\n",
    "\n",
    "print(f\"Перший елемент з останнього рядка = {last_row[0]}\")"
   ]
  },
  {
   "cell_type": "markdown",
   "metadata": {
    "id": "JA47PKTv8zFK"
   },
   "source": [
    "12. Створіть список з десяти елементів різного типу. Отримайте всі елементи, окрім двох перших та двох останніх та збережіть їх в новій змінній."
   ]
  },
  {
   "cell_type": "code",
   "execution_count": 27,
   "metadata": {
    "id": "_rHdUR-ueP4-",
    "colab": {
     "base_uri": "https://localhost:8080/"
    },
    "outputId": "1ccdc25a-23fe-41de-8136-336ded984489"
   },
   "outputs": [
    {
     "output_type": "stream",
     "name": "stdout",
     "text": [
      "[12.3, True, [999], (2, 2), [6, 6, 6], 'hello']\n"
     ]
    }
   ],
   "source": [
    "list_with_dif_elements = [1, \"2\", 12.3, True, [999], (2, 2), [6, 6, 6], \"hello\", str(15), 3.14]\n",
    "new_list = list_with_dif_elements[2:-2]\n",
    "\n",
    "print(new_list)"
   ]
  },
  {
   "cell_type": "markdown",
   "metadata": {
    "id": "pCjR1dJb1Qbi"
   },
   "source": [
    "# V. Робота з кортежами."
   ]
  },
  {
   "cell_type": "markdown",
   "metadata": {
    "id": "fAZCxAX06R_k"
   },
   "source": [
    "14. Створити кортеж з один елементом."
   ]
  },
  {
   "cell_type": "code",
   "execution_count": 29,
   "metadata": {
    "id": "H7d82WkQev3e",
    "colab": {
     "base_uri": "https://localhost:8080/"
    },
    "outputId": "062ef6b0-1b53-4d97-f9f1-8f90d353e791"
   },
   "outputs": [
    {
     "output_type": "stream",
     "name": "stdout",
     "text": [
      "7\n"
     ]
    }
   ],
   "source": [
    "t = (7)\n",
    "print(t)"
   ]
  },
  {
   "cell_type": "markdown",
   "metadata": {
    "id": "8LCtYcmI6w1M"
   },
   "source": [
    "15. Порівняйте список та кортеж. Назвіть схожості та відмінності, випадки використання.\n",
    "\n"
   ]
  },
  {
   "cell_type": "markdown",
   "metadata": {
    "id": "fUsN1Hnue0C6"
   },
   "source": [
    "Схожості ::\n",
    "  як списки, так і кортежі можна ітерувати\n",
    "  можливі зрізи за допомогою квадратних дужок\n",
    "  можуть містити дані різні типів одночасно\n",
    "\n",
    "Відмінності ::\n",
    "  списки muttable, на відміну від кортежів\n",
    "  списки створюються за допомогою [], а кортежі ()\n",
    "  доступ до елементів кортежу швидший\n",
    "\n",
    "Випадки використання ::\n",
    "  якщо ми зберігаємо елементи, що в процесі виконання програми можуть змінюватися, то треба використовувати список, інакше - кортеж."
   ]
  },
  {
   "cell_type": "markdown",
   "metadata": {
    "id": "m0xrwFijAmDD"
   },
   "source": [
    "16. Створіть кортеж з 11ти елементів чисел з рухомою комою та отримайте кожен парний за індексом елемент в зворотньому порядку. Наприклад, маючи (1.2, 2.3, 3.3, 4.3, 5.3, 6.3, 7.3, 8.3, 9.3, 0.3), отримати (0.3, 8.3, 6.3, 4.3, 2.3). Результат збережіть в нову змінну та виведіть на екран."
   ]
  },
  {
   "cell_type": "code",
   "execution_count": 30,
   "metadata": {
    "id": "p-5DAH6XfAGA",
    "colab": {
     "base_uri": "https://localhost:8080/"
    },
    "outputId": "e982fd62-e93b-4397-bd20-fe03cd97cc3c"
   },
   "outputs": [
    {
     "output_type": "stream",
     "name": "stdout",
     "text": [
      "(1.11, 1.9, 1.7, 1.5, 1.3, 1.1)\n"
     ]
    }
   ],
   "source": [
    "t1 = (1.1, 1.2, 1.3, 1.4, 1.5, 1.6, 1.7, 1.8, 1.9, 1.10, 1.11)\n",
    "t2 = t1[-1::-2]\n",
    "print(t2)"
   ]
  },
  {
   "cell_type": "markdown",
   "metadata": {
    "id": "rW_I9dt3x6cW"
   },
   "source": [
    "# VI. Множини (Set)."
   ]
  },
  {
   "cell_type": "markdown",
   "metadata": {
    "id": "zNjRLHLw1Bgg"
   },
   "source": [
    "17. Створити множину без елементів. Після цого за допомогою методу додайте кілька різних елементів до множини. Чи множини є змінним типом даних?"
   ]
  },
  {
   "cell_type": "code",
   "execution_count": null,
   "metadata": {
    "id": "KOv7zc2Kfo4N"
   },
   "outputs": [],
   "source": [
    "s = set()\n",
    "s.add(\"hello\")\n",
    "s.add(1)\n",
    "s.add(\"@\")\n",
    "print(s)"
   ]
  },
  {
   "cell_type": "markdown",
   "metadata": {
    "id": "vxS6dVYiftZQ"
   },
   "source": [
    "так, множини є змінним типом даних, тобто їх можна змінювати після створення, додавати нові елементи, видаляти існуючі тощо."
   ]
  },
  {
   "cell_type": "markdown",
   "metadata": {
    "id": "gHpT0Zw_1HEF"
   },
   "source": [
    "18. Створити множину, маючи список my_list = [1, 1, 2, 67, 67, 8, 9]. Пояснити, чому \"зникли\" деякі елементи."
   ]
  },
  {
   "cell_type": "code",
   "execution_count": 31,
   "metadata": {
    "id": "qCN4uvJ_fxmu",
    "colab": {
     "base_uri": "https://localhost:8080/"
    },
    "outputId": "93dfe2ed-fec2-4181-ae31-353df8ad9f6c"
   },
   "outputs": [
    {
     "output_type": "stream",
     "name": "stdout",
     "text": [
      "{1, 2, 67, 8, 9}\n"
     ]
    }
   ],
   "source": [
    "my_list = [1, 1, 2, 67, 67, 8, 9]\n",
    "set1 = set(my_list)\n",
    "print(set1)"
   ]
  },
  {
   "cell_type": "markdown",
   "metadata": {
    "id": "tFNc1e20fyny"
   },
   "source": [
    "При створенні множини зі списку деякі елементи (а саме дублікати) зникають, оскільки множини визначаються як набір унікальних елементів."
   ]
  },
  {
   "cell_type": "markdown",
   "metadata": {
    "id": "SRMkGizS1UwY"
   },
   "source": [
    "19. Створіть дві множини. Продемонстуйте над ними операції: обʼєднання, різниці, пересічі та симетричної різниці. Використовуйте методи, що не змінюють множини, а створюють нові."
   ]
  },
  {
   "cell_type": "code",
   "execution_count": 8,
   "metadata": {
    "id": "h0T-VuDnf3Ri",
    "colab": {
     "base_uri": "https://localhost:8080/"
    },
    "outputId": "9aac98f1-35b6-4c1b-e639-c181e31462f0",
    "ExecuteTime": {
     "end_time": "2024-02-12T14:53:40.409896Z",
     "start_time": "2024-02-12T14:53:40.388905100Z"
    }
   },
   "outputs": [
    {
     "name": "stdout",
     "output_type": "stream",
     "text": [
      "Об'єднання множин: {1, 2, 3, 4, 5, 6, 7, 8}\n",
      "Різниця множин: {1, 2, 3}\n",
      "Перетин множин: {4, 5}\n",
      "Симетрична різниця множин: {1, 2, 3, 6, 7, 8}\n"
     ]
    }
   ],
   "source": [
    "set1 = {1, 2, 3, 4, 5}\n",
    "set2 = {4, 5, 6, 7, 8}\n",
    "\n",
    "union_set = set1.union(set2)\n",
    "print(f\"Об'єднання множин: {union_set}\")\n",
    "\n",
    "difference_set = set1.difference(set2)\n",
    "print(f\"Різниця множин: {difference_set}\")\n",
    "\n",
    "intersection_set = set1.intersection(set2)\n",
    "print(f\"Перетин множин: {intersection_set}\")\n",
    "\n",
    "symmetric_difference_set = set1.symmetric_difference(set2)\n",
    "print(f\"Симетрична різниця множин: {symmetric_difference_set}\")\n"
   ]
  },
  {
   "cell_type": "markdown",
   "metadata": {
    "id": "kWc8gkzTx7Ea"
   },
   "source": [
    "# VII. Словники (Dictionary)."
   ]
  },
  {
   "cell_type": "markdown",
   "metadata": {
    "id": "i5FLwj-B2ybQ"
   },
   "source": [
    "20. Створіть пустий словник. До нього додайте чотири пари елементів такі, щоб їхні ключі були різних типів. Чи може список бути ключем? Чому?"
   ]
  },
  {
   "cell_type": "code",
   "execution_count": 34,
   "metadata": {
    "id": "hxgv3BzrgLAV",
    "colab": {
     "base_uri": "https://localhost:8080/"
    },
    "outputId": "a18d9bb9-3692-40f6-8d22-f8f8e8b4b995"
   },
   "outputs": [
    {
     "output_type": "stream",
     "name": "stdout",
     "text": [
      "Error: unhashable type: 'list'\n",
      "{1: 'integer key', 'key_string': 'string key', 3.14: 'float key', (1, 2): 'tuple key'}\n"
     ]
    }
   ],
   "source": [
    "new_dict = dict()\n",
    "new_dict[1] = \"integer key\"\n",
    "new_dict[\"key_string\"] = \"string key\"\n",
    "new_dict[3.14] = \"float key\"\n",
    "new_dict[(1, 2)] = \"tuple key\"\n",
    "\n",
    "try:\n",
    "    new_dict[[1, 2, 3]] = \"list key\"\n",
    "except TypeError as e:\n",
    "    print(f\"Error: {e}\")\n",
    "\n",
    "print(new_dict)"
   ]
  },
  {
   "cell_type": "markdown",
   "metadata": {
    "id": "zwa7UVN-gR3m"
   },
   "source": [
    "Ключі у словнику повинні бути незмінними типами даних, такими як числа, рядки або кортежі. Списки - змінний тип даних, тому вони не можуть бути використані як ключі у словнику."
   ]
  },
  {
   "cell_type": "markdown",
   "metadata": {
    "id": "WM_pMlJsgoNf"
   },
   "source": [
    "21. Створіть словник, де значенням в одній з пар теж буде словник, який теж має вкладений словник. Виведіть на екран значення, що міститься в словнику, що знаходиться на найнижчому рівні ієрархії вкладеності (найбільш внутрішній)."
   ]
  },
  {
   "cell_type": "code",
   "execution_count": 6,
   "metadata": {
    "id": "60dlP7IHhAy4",
    "colab": {
     "base_uri": "https://localhost:8080/"
    },
    "outputId": "7cf26e07-d430-4967-8388-aa1ad879a24e",
    "ExecuteTime": {
     "end_time": "2024-02-12T14:52:21.514989Z",
     "start_time": "2024-02-12T14:52:21.464737Z"
    }
   },
   "outputs": [
    {
     "name": "stdout",
     "output_type": "stream",
     "text": [
      "world\n"
     ]
    }
   ],
   "source": [
    "first_dict = {'hello': 'world'}\n",
    "second_dict = {'dict': first_dict}\n",
    "third_dict = {'dict': second_dict}\n",
    "\n",
    "print(third_dict['dict']['dict']['hello'])"
   ]
  },
  {
   "cell_type": "markdown",
   "metadata": {
    "id": "xOZP0hkx6cCr"
   },
   "source": [
    "# Вітаю! Ви велика(ий) молодець, що впоралась(вся). Похваліть себе та побалуйте чимось приємним. Я Вами пишаюся."
   ]
  }
 ],
 "metadata": {
  "colab": {
   "provenance": []
  },
  "kernelspec": {
   "name": "python3",
   "language": "python",
   "display_name": "Python 3 (ipykernel)"
  },
  "language_info": {
   "name": "python"
  }
 },
 "nbformat": 4,
 "nbformat_minor": 0
}
