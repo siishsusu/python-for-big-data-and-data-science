{
  "nbformat": 4,
  "nbformat_minor": 0,
  "metadata": {
    "colab": {
      "provenance": []
    },
    "kernelspec": {
      "name": "python3",
      "display_name": "Python 3"
    },
    "language_info": {
      "name": "python"
    }
  },
  "cells": [
    {
      "cell_type": "markdown",
      "source": [
        "# I. Оператори порівняння та логічні оператори. Умови."
      ],
      "metadata": {
        "id": "qDEi2Pi-4yUC"
      }
    },
    {
      "cell_type": "markdown",
      "source": [
        "1. Створіть цілочисленну змінну зі своїм щасливим або улюбленим числом. Напишіть код, який би автоматизовував наступну задачу.\n",
        "\n",
        "Якщо число парне, помножте його на 2 та виведіть результат на екран.\n",
        "\n",
        "Але якщо число непарне, помножте його на 3 та додайте 1 і виведіть на екран."
      ],
      "metadata": {
        "id": "3v8D4Dkm43Ua"
      }
    },
    {
      "cell_type": "code",
      "execution_count": null,
      "metadata": {
        "id": "dlVjc-Nu4bmb",
        "colab": {
          "base_uri": "https://localhost:8080/"
        },
        "outputId": "fe947dc8-ae07-41f3-944e-5c87f018ab8f"
      },
      "outputs": [
        {
          "output_type": "stream",
          "name": "stdout",
          "text": [
            "52\n"
          ]
        }
      ],
      "source": [
        "fav_number = 17\n",
        "if(fav_number % 2 == 0):\n",
        "  fav_number *= 2\n",
        "elif (fav_number % 2 == 1):\n",
        "  fav_number *= 3\n",
        "  fav_number += 1\n",
        "\n",
        "print(fav_number)"
      ]
    },
    {
      "cell_type": "markdown",
      "source": [
        "2. Створіть змінну, що посилається на список. Якщо список пустий, додайте будь-який елемент у кінець списку. Якщо ж ні, то нічого не робіть."
      ],
      "metadata": {
        "id": "H669P0QK5BI_"
      }
    },
    {
      "cell_type": "code",
      "source": [
        "list1 = []\n",
        "if (len(list1) == 0):\n",
        "  list1.append('something')\n",
        "print(list1)"
      ],
      "metadata": {
        "id": "ecWlfra45f6E",
        "colab": {
          "base_uri": "https://localhost:8080/"
        },
        "outputId": "935411d2-72bd-483d-80df-046dc01712f5"
      },
      "execution_count": null,
      "outputs": [
        {
          "output_type": "stream",
          "name": "stdout",
          "text": [
            "['something']\n"
          ]
        }
      ]
    },
    {
      "cell_type": "markdown",
      "source": [
        "3. Створіть рядок зі своїм імʼям латинкою. Напишіть код, який би автоматизовував наступну задачу.\n",
        "\n",
        "Якщо в імені є літера \"а\"\n",
        " або \"i\", Виведіть на екран повідомлення \"A or I is in the name\".\n",
        "\n",
        "\n",
        "\n",
        "Якщо в імені є літери \"o\" та \"n\", Виведіть на екран повідомлення \"O and N is in the name\".\n",
        "\n",
        "Також якщо в імені немає літери \"о\", але є \"n\", Виведіть на екран повідомлення \"Only N is in the name\".\n",
        "\n",
        "В решті випадків виведіть на екран повідомлення \"There is no N in the name, but there might be O\".\n",
        "\n",
        "Зверніть увагу, що, наприклад, для імені \"Antonina\" буде виведено два повідомлення."
      ],
      "metadata": {
        "id": "h9Y3cMUd5h85"
      }
    },
    {
      "cell_type": "code",
      "source": [
        "name = \"vladyslava\"\n",
        "if 'a' or 'i' in name:\n",
        "  print(\"A or I is in the name\")\n",
        "if 'o' and 'n' in name:\n",
        "  print(\"O and N is in the name\")\n",
        "elif 'n' in name:\n",
        "  print(\"Only N is in the name\")\n",
        "else:\n",
        "  print(\"There is no N in the name, but there might be O\")"
      ],
      "metadata": {
        "id": "bUH4LUx35u52",
        "colab": {
          "base_uri": "https://localhost:8080/"
        },
        "outputId": "95dfc5e5-fbc2-4f97-b639-7600c921c89b"
      },
      "execution_count": null,
      "outputs": [
        {
          "output_type": "stream",
          "name": "stdout",
          "text": [
            "A or I is in the name\n",
            "There is no N in the name, but there might be O\n"
          ]
        }
      ]
    },
    {
      "cell_type": "markdown",
      "source": [
        "# II. Comprehensions."
      ],
      "metadata": {
        "id": "wPCXJv4354cU"
      }
    },
    {
      "cell_type": "markdown",
      "source": [
        "4. Створіть список, використовуючи if (не if-else), range та comprehension."
      ],
      "metadata": {
        "id": "jULLW5jN55Pw"
      }
    },
    {
      "cell_type": "code",
      "source": [
        "divBy7 = [x for x in range(1, 200) if x % 7 == 0]\n",
        "print(divBy7)"
      ],
      "metadata": {
        "id": "mlZalnVC6W3F",
        "colab": {
          "base_uri": "https://localhost:8080/"
        },
        "outputId": "687fbb06-ed48-49a7-aa3d-044277841d0a"
      },
      "execution_count": 1,
      "outputs": [
        {
          "output_type": "stream",
          "name": "stdout",
          "text": [
            "[7, 14, 21, 28, 35, 42, 49, 56, 63, 70, 77, 84, 91, 98, 105, 112, 119, 126, 133, 140, 147, 154, 161, 168, 175, 182, 189, 196]\n"
          ]
        }
      ]
    },
    {
      "cell_type": "markdown",
      "source": [
        "5. Створіть словник, використовуючи dict comprehension, що містить if else. Коли слід використовувати comprehensions, а коли їх слід уникати?"
      ],
      "metadata": {
        "id": "LqhEQ4JW6XcC"
      }
    },
    {
      "cell_type": "code",
      "source": [
        "my_dict = {x: 'ділиться на 7' if x % 7 == 0 else 'не ділиться на 7' for x in range(1, 20)}\n",
        "print(my_dict)"
      ],
      "metadata": {
        "id": "1yVaFbOs6hta",
        "colab": {
          "base_uri": "https://localhost:8080/"
        },
        "outputId": "8dc20862-42eb-4b19-9328-fefd05a91882"
      },
      "execution_count": null,
      "outputs": [
        {
          "output_type": "stream",
          "name": "stdout",
          "text": [
            "{1: 'не ділиться на 7', 2: 'не ділиться на 7', 3: 'не ділиться на 7', 4: 'не ділиться на 7', 5: 'не ділиться на 7', 6: 'не ділиться на 7', 7: 'ділиться на 7', 8: 'не ділиться на 7', 9: 'не ділиться на 7', 10: 'не ділиться на 7', 11: 'не ділиться на 7', 12: 'не ділиться на 7', 13: 'не ділиться на 7', 14: 'ділиться на 7', 15: 'не ділиться на 7', 16: 'не ділиться на 7', 17: 'не ділиться на 7', 18: 'не ділиться на 7', 19: 'не ділиться на 7'}\n"
          ]
        }
      ]
    },
    {
      "cell_type": "markdown",
      "source": [
        "Використовувати ::коли логіка коду проста (наприклад один цикл)\n",
        "\n",
        "Уникати ::\n",
        "коли логіка стає складною та важко читати;\n",
        "коли comprehensions стають занадто довгими та заплутаними."
      ],
      "metadata": {
        "id": "wbkzNhKq6hzz"
      }
    },
    {
      "cell_type": "markdown",
      "source": [
        "6. Створіть список з рядками та запишіть його у змінну. Створіть ще один список на основі попереднього, де кожен рядок буде містити тільки три перших заглавних символи. Наприклад: ['hello', 'i', 'dont', 'care'] -> ['HEL', 'I', 'DON', 'CAR']. Використання comprehensions обовʼязкове."
      ],
      "metadata": {
        "id": "ZlqB8G3G6lHP"
      }
    },
    {
      "cell_type": "code",
      "source": [
        "word_list = [\"apple\", \"banana\", \"orange\", \"grape\", \"pineapple\", \"watermelon\", \"kiwi\"]\n",
        "new_word_list = [x[:3].upper() for x in word_list]\n",
        "\n",
        "print(new_word_list)"
      ],
      "metadata": {
        "id": "nw6rz0bR60VC",
        "colab": {
          "base_uri": "https://localhost:8080/"
        },
        "outputId": "ede188fb-38f2-43fd-c33c-bd488a64f8f4"
      },
      "execution_count": null,
      "outputs": [
        {
          "output_type": "stream",
          "name": "stdout",
          "text": [
            "['APP', 'BAN', 'ORA', 'GRA', 'PIN', 'WAT', 'KIW']\n"
          ]
        }
      ]
    },
    {
      "cell_type": "markdown",
      "source": [
        "# III. Цикли."
      ],
      "metadata": {
        "id": "Tj573IAH64Fz"
      }
    },
    {
      "cell_type": "markdown",
      "source": [
        "7. Продемонструйте роботу циклу while. Не можна використовувати True для запуску циклу, щоб уникнути безкінечного циклу!"
      ],
      "metadata": {
        "id": "tN_33xdE65H5"
      }
    },
    {
      "cell_type": "code",
      "source": [
        "count = 0\n",
        "while(count < 10):\n",
        "  print(\"PRINTING SOMETHING\")\n",
        "  count += 1"
      ],
      "metadata": {
        "id": "Kd9FO6yG63P5",
        "colab": {
          "base_uri": "https://localhost:8080/"
        },
        "outputId": "1fd60eb2-991d-45c8-cc72-42c8a6ff5437"
      },
      "execution_count": null,
      "outputs": [
        {
          "output_type": "stream",
          "name": "stdout",
          "text": [
            "PRINTING SOMETHING\n",
            "PRINTING SOMETHING\n",
            "PRINTING SOMETHING\n",
            "PRINTING SOMETHING\n",
            "PRINTING SOMETHING\n",
            "PRINTING SOMETHING\n",
            "PRINTING SOMETHING\n",
            "PRINTING SOMETHING\n",
            "PRINTING SOMETHING\n",
            "PRINTING SOMETHING\n",
            "PRINTING SOMETHING\n",
            "PRINTING SOMETHING\n",
            "PRINTING SOMETHING\n",
            "PRINTING SOMETHING\n",
            "PRINTING SOMETHING\n",
            "PRINTING SOMETHING\n",
            "PRINTING SOMETHING\n",
            "PRINTING SOMETHING\n",
            "PRINTING SOMETHING\n",
            "PRINTING SOMETHING\n"
          ]
        }
      ]
    },
    {
      "cell_type": "markdown",
      "source": [
        "8. Напишіть програму, яка виведе на екран непарні числа в діапазоні від 0 до 20 включно."
      ],
      "metadata": {
        "id": "x2CmfZO-7pW0"
      }
    },
    {
      "cell_type": "code",
      "source": [
        "notDivBy2 = [x for x in range(21) if x % 2 == 1]\n",
        "print(notDivBy2)"
      ],
      "metadata": {
        "id": "aCSRYA6s7tkF",
        "colab": {
          "base_uri": "https://localhost:8080/"
        },
        "outputId": "97d3efe1-ab25-4f52-91b3-34818d785cda"
      },
      "execution_count": 3,
      "outputs": [
        {
          "output_type": "stream",
          "name": "stdout",
          "text": [
            "[0, 2, 4, 6, 8, 10, 12, 14, 16, 18, 20]\n"
          ]
        }
      ]
    },
    {
      "cell_type": "markdown",
      "source": [
        "9. Створіть список з елементами булевого типу або None. Використовуючи цикли, отримайте в результаті список з кортежами, де перший елемент кортежу - індекс(ціле число), а другий елемент - відповідне значення з першого списку.\n",
        "\n",
        "Наприклад, [True, True, None, False] -> [(0, True), (1, True), (2, None), (3, False)]"
      ],
      "metadata": {
        "id": "MDWNocZD7t_B"
      }
    },
    {
      "cell_type": "code",
      "source": [
        "new_list = [True, False, None, True, None, False]\n",
        "result_list = []\n",
        "\n",
        "for i in range (len(new_list)):\n",
        "  result_list.append((i, new_list[i]))\n",
        "\n",
        "print(result_list)"
      ],
      "metadata": {
        "id": "0EUyjMdp7yfh",
        "colab": {
          "base_uri": "https://localhost:8080/"
        },
        "outputId": "05eee341-be19-4d49-a6d2-d04d8a50ffdb"
      },
      "execution_count": 5,
      "outputs": [
        {
          "output_type": "stream",
          "name": "stdout",
          "text": [
            "[(0, True), (1, False), (2, None), (3, True), (4, None), (5, False)]\n"
          ]
        }
      ]
    },
    {
      "cell_type": "markdown",
      "source": [
        "10. Створіть словник, де ключі - назви книжок, а значення - їхня кількість у наявності в Вашій міні-бібліотеці. Бібліотека має містити щонайменше 6 книжок (6 пар значень у словнику) і щонайбільше 10 (пар значень). Використовуючи цикли, оновіть словник (не створюйте новий) так, щоби кількість книг у наявності збільшилося на 5 кожної книги. Наприклад,\n",
        "{'It': 3, 'Fault stars': 10, 'Bible': 17, 'Psychological romance': 4, 'Harry Potter': 13} -> {'It': 8, 'Fault stars': 15, 'Bible': 22, 'Psychological romance': 9, 'Harry Potter': 18}"
      ],
      "metadata": {
        "id": "-6XUqlcG7zKs"
      }
    },
    {
      "cell_type": "code",
      "source": [
        "library = {\n",
        "    'Percy Jackson and the Lightning Thief': 5,\n",
        "    'Six Of Crows': 3,\n",
        "    'The Seven Husbands of Evelyn Hugo': 7,\n",
        "    'Harry Potter and the Prisoner of Azkaban': 4,\n",
        "    'The Hunger Games': 6,\n",
        "    'Lessons in Chemistry': 2,\n",
        "}\n",
        "for book in library:\n",
        "    library[book] += 5\n",
        "print(library)"
      ],
      "metadata": {
        "id": "Ceoj9wwb791q",
        "colab": {
          "base_uri": "https://localhost:8080/"
        },
        "outputId": "24a00c32-2d32-40cf-fb5b-fe3879a39eac"
      },
      "execution_count": 8,
      "outputs": [
        {
          "output_type": "stream",
          "name": "stdout",
          "text": [
            "{'Percy Jackson and the Lightning Thief': 10, 'Six Of Crows': 8, 'The Seven Husbands of Evelyn Hugo': 12, 'Harry Potter and the Prisoner of Azkaban': 9, 'The Hunger Games': 11, 'Lessons in Chemistry': 7}\n"
          ]
        }
      ]
    },
    {
      "cell_type": "markdown",
      "source": [
        "11. Визначте цілочислену змінну n, що належить проміжку від 4 до 10 включно. Використовуючи цикли, виведіть в консоль наступний патерн.\n",
        "\n",
        "#\n",
        "##\n",
        "###\n",
        "####\n",
        "\n",
        "... #*n\n"
      ],
      "metadata": {
        "id": "QLzyJM288AC7"
      }
    },
    {
      "cell_type": "code",
      "source": [
        "n = 7\n",
        "for i in range(1, n + 1):\n",
        "    for j in range(i):\n",
        "        print(\"#\", end=\"\")\n",
        "    print()"
      ],
      "metadata": {
        "id": "KOpng87s8Duz",
        "colab": {
          "base_uri": "https://localhost:8080/"
        },
        "outputId": "166db393-55ce-4ccc-e008-3e20b059b347"
      },
      "execution_count": 9,
      "outputs": [
        {
          "output_type": "stream",
          "name": "stdout",
          "text": [
            "#\n",
            "##\n",
            "###\n",
            "####\n",
            "#####\n",
            "######\n",
            "#######\n"
          ]
        }
      ]
    },
    {
      "cell_type": "markdown",
      "source": [
        "12. Гра \"Нумо вгадай\".\n",
        "Розробіть просту гру, де користувач має вгадати випадкове число від 1 до 100. Для генерації випадкового числа використовуйте функцію random.randint(a, b) (тут a та b включно). Для отримання числа з консолі використовуйте функцію input(), результат якої обовʼязково явно приведіть до типу int.\n",
        "\n",
        "Підказка: використовуйте цикл while та умови if-else, щоб повідомити користувачу піказки (напр. \"Більше\", \"Менше\") поки користувач не вгадає. По завершенню виведіть кількість спроб, які знадобилися для вгадування."
      ],
      "metadata": {
        "id": "_bd-bqAT8EHn"
      }
    },
    {
      "cell_type": "code",
      "source": [
        "import random\n",
        "n = 0\n",
        "num_of_attempts = 0\n",
        "num_to_guess = random.randint(1, 100)\n",
        "while num_to_guess != n:\n",
        "    n = int(input(\"Вгадайте число від 1 до 100: \"))\n",
        "    if n > num_to_guess:\n",
        "        print(f\"{n} надто багато. Спробуйте знову ввести менше число\")\n",
        "    elif n < num_to_guess:\n",
        "        print(f\"{n} надто мало. Спробуйте знову ввести більше число\")\n",
        "    num_of_attempts += 1\n",
        "print(f\"Ви вгадали число {num_to_guess} за {num_of_attempts} спроб\")"
      ],
      "metadata": {
        "id": "IK9nnxFK8Hkl",
        "colab": {
          "base_uri": "https://localhost:8080/"
        },
        "outputId": "068a4a50-34c7-4b6d-e885-a6fc28f3e3f6"
      },
      "execution_count": 10,
      "outputs": [
        {
          "output_type": "stream",
          "name": "stdout",
          "text": [
            "Вгадайте число від 1 до 100: 50\n",
            "50 надто мало. Спробуйте знову ввести більше число\n",
            "Вгадайте число від 1 до 100: 60\n",
            "60 надто мало. Спробуйте знову ввести більше число\n",
            "Вгадайте число від 1 до 100: 70\n",
            "70 надто мало. Спробуйте знову ввести більше число\n",
            "Вгадайте число від 1 до 100: 80\n",
            "80 надто мало. Спробуйте знову ввести більше число\n",
            "Вгадайте число від 1 до 100: 90\n",
            "90 надто мало. Спробуйте знову ввести більше число\n",
            "Вгадайте число від 1 до 100: 99\n",
            "99 надто мало. Спробуйте знову ввести більше число\n",
            "Вгадайте число від 1 до 100: 100\n",
            "Ви вгадали число 100 за 7 спроб\n"
          ]
        }
      ]
    },
    {
      "cell_type": "markdown",
      "source": [
        "# Вітаю! Ви велика(ий) молодець, що впоралась(вся). Похваліть себе та побалуйте чимось приємним. Я Вами пишаюся."
      ],
      "metadata": {
        "id": "PXoXWb7Z8IGi"
      }
    }
  ]
}